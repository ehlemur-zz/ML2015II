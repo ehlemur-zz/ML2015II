{
 "metadata": {
  "name": ""
 },
 "nbformat": 3,
 "nbformat_minor": 0,
 "worksheets": [
  {
   "cells": [
    {
     "cell_type": "heading",
     "level": 1,
     "metadata": {},
     "source": [
      "Prelude"
     ]
    },
    {
     "cell_type": "code",
     "collapsed": false,
     "input": [
      "import numpy as np"
     ],
     "language": "python",
     "metadata": {},
     "outputs": [],
     "prompt_number": 1
    },
    {
     "cell_type": "heading",
     "level": 1,
     "metadata": {},
     "source": [
      "Kernel function and feature space"
     ]
    },
    {
     "cell_type": "markdown",
     "metadata": {},
     "source": [
      "Let $X$ be a set and $\\phi:X\\longrightarrow Y$ a projection function, where $Y$ is a Hilbert space called the _feature space_.\n",
      "We define $k:X\\times X\\longrightarrow \\mathbb{R}$, called the _kernel function_ as $k(x,y)=\\langle\\phi(x),\\phi(y)\\rangle$ where $\\langle\\cdot,\\cdot\\rangle$ is the dot product in $Y$."
     ]
    },
    {
     "cell_type": "heading",
     "level": 2,
     "metadata": {},
     "source": [
      "Projection in the _feature space_"
     ]
    },
    {
     "cell_type": "markdown",
     "metadata": {},
     "source": [
      "Given points $x,w\\in X$, the projection of $\\phi(x)$ on $\\phi(w)$ is given by $$P_{\\phi(w)}\\left(\\phi(x)\\right)=\\frac{\\langle\\phi(x),\\phi(y)\\rangle}{\\Vert\\phi(w)\\Vert}$$\n",
      "\n",
      "Recalling the definition of $k$, and that the norm can be defined from the dot product as $\\Vert x\\Vert = \\langle x, x\\rangle^\\frac{1}{2}$, we obtain that\n",
      "$$P_{\\phi(w)}\\left(\\phi(x)\\right)=k(x,w) k(w,w)^{-\\frac{1}{2}}$$"
     ]
    },
    {
     "cell_type": "heading",
     "level": 2,
     "metadata": {},
     "source": [
      "Variance of the projection of a set of points along a vector in the _feature space_"
     ]
    },
    {
     "cell_type": "markdown",
     "metadata": {},
     "source": [
      "Given a set of points $x=\\left\\{x_1, x_2, \\ldots, x_n\\right\\}\\subset X$ and a point $w\\in X$, the variance of the projections of $\\phi(x_1), \\phi(x_2), \\ldots, \\phi(x_n)$ along the vector $\\phi(w)$ is given by\n",
      "\n",
      "$$\\mathrm{Var}_{\\phi(w)}(x) = \\frac{1}{n}\\sum_{x_i\\in x}\\left( P_{\\phi(w)}(\\phi(x_i))-\\mu \\right)^2$$\n",
      "\n",
      "where\n",
      "\n",
      "$$\\mu = \\frac{1}{n}\\sum_{x_i\\in x} P_{\\phi(w)}(\\phi(x_i))$$\n",
      "\n",
      "\n",
      "Using the results obtained in the previous section, and fully expanding the definitions we obtain\n",
      "\n",
      "$$\\mathrm{Var}_{\\phi(w)}(x) = \\frac{1}{n}\\sum_{x_i\\in x}\\left( k(x_i, w)k(w,w)^{-\\frac{1}{2}} - \\mu\\right)^2$$\n",
      "\n",
      "where\n",
      "\n",
      "$$\\mu = \\frac{k(w,w)^{-\\frac{1}{2}}}{n}\\sum_{x_i\\in x} k(x_i,w)$$"
     ]
    },
    {
     "cell_type": "heading",
     "level": 2,
     "metadata": {},
     "source": [
      "Python implementation"
     ]
    },
    {
     "cell_type": "code",
     "collapsed": false,
     "input": [
      "def project(x, w, k):\n",
      "    return k(x,w) * k(w,w)**-.5      \n",
      "\n",
      "def variance(xs, w, k):\n",
      "    n = len(xs)                      # the number of points\n",
      "    ps = project(xs, w, k)           # the projection of the points \n",
      "    mean = np.sum(ps) / n            # the mean\n",
      "    terms = ps - mean                # the terms of the sum\n",
      "    return np.dot(terms, terms) / n  # the variance\n",
      "    \n",
      "def k1(x, w):\n",
      "    return np.dot(x, w)\n",
      "\n",
      "def k2(x, w):\n",
      "    return np.dot(x, w)**2\n",
      "\n",
      "def k3(x, w):\n",
      "    return (np.dot(x, w) + 1)**5\n",
      "\n",
      "def k4(x, w):\n",
      "    aux = x - w\n",
      "    return np.exp(-.5 * np.dot(aux, aux))  # since ||x - w||^2 = <x - w, x - w>  and  sigma = 1"
     ],
     "language": "python",
     "metadata": {},
     "outputs": [],
     "prompt_number": 5
    },
    {
     "cell_type": "code",
     "collapsed": false,
     "input": [
      "xs = np.array([[ 0,  1], \n",
      "               [-1,  3],\n",
      "               [ 2,  4],\n",
      "               [ 3, -1],\n",
      "               [-1, -2]])\n",
      "\n",
      "w1 = np.array([ 1, 1])\n",
      "w2 = np.array([-1, 1])\n",
      "\n",
      "print variance(xs, w1, k1)"
     ],
     "language": "python",
     "metadata": {},
     "outputs": [
      {
       "output_type": "stream",
       "stream": "stdout",
       "text": [
        "4.12\n"
       ]
      }
     ],
     "prompt_number": 6
    },
    {
     "cell_type": "code",
     "collapsed": false,
     "input": [],
     "language": "python",
     "metadata": {},
     "outputs": []
    }
   ],
   "metadata": {}
  }
 ]
}