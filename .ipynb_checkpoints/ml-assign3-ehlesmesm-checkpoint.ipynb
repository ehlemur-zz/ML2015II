{
 "metadata": {
  "name": ""
 },
 "nbformat": 3,
 "nbformat_minor": 0,
 "worksheets": [
  {
   "cells": [
    {
     "cell_type": "markdown",
     "metadata": {},
     "source": [
      "Let $X$ be a set and $\\phi:X\\longrightarrow Y$ a projection function, where $Y$ is a Hilbert space called the _feature space_.\n",
      "We define $k:X\\times X\\longrightarrow \\mathbb{R}$, called the _kernel function_ as $k(x,y)=\\langle\\phi(x),\\phi(y)\\rangle$ where $\\langle\\cdot,\\cdot\\rangle$ is the dot product in $Y$."
     ]
    },
    {
     "cell_type": "markdown",
     "metadata": {},
     "source": [
      "Given points $x,w\\in X$, the projection of $\\phi(x)$ on $\\phi(w)$ is given by $$P_{\\phi(w)}\\left(\\phi(x)\\right)=\\frac{\\langle\\phi(x),\\phi(y)\\rangle}{\\Vert\\phi(w)\\Vert}$$\n",
      "\n",
      "Recalling the definition of $k$, and that the norm can be defined from the dot product as $\\Vert x\\Vert = \\langle x, x\\rangle^\\frac{1}{2}$, we obtain that\n",
      "$$P_{\\phi(w)}\\left(\\phi(x)\\right)=\\frac{k(x,w)}{k(w,w)^\\frac{1}{2}}$$"
     ]
    },
    {
     "cell_type": "markdown",
     "metadata": {},
     "source": [
      "Given a set of points $x=\\left\\{x_1, x_2, \\ldots, x_n\\right\\}\\subset X$ and a point $w\\in X$, the variance of the projections $\\phi(x_1), \\phi(x_2), \\ldots, \\phi(x_n)$ of the images along a vector "
     ]
    },
    {
     "cell_type": "code",
     "collapsed": false,
     "input": [
      "|_"
     ],
     "language": "python",
     "metadata": {},
     "outputs": []
    }
   ],
   "metadata": {}
  }
 ]
}