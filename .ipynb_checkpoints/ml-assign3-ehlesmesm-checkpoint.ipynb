{
 "metadata": {
  "name": ""
 },
 "nbformat": 3,
 "nbformat_minor": 0,
 "worksheets": [
  {
   "cells": [
    {
     "cell_type": "heading",
     "level": 1,
     "metadata": {},
     "source": [
      "Prelude"
     ]
    },
    {
     "cell_type": "code",
     "collapsed": false,
     "input": [
      "import numpy as np\n",
      "import pylab as plt\n",
      "from IPython.display import display, Math, Latex\n",
      "\n",
      "%matplotlib inline"
     ],
     "language": "python",
     "metadata": {},
     "outputs": [],
     "prompt_number": 137
    },
    {
     "cell_type": "heading",
     "level": 1,
     "metadata": {},
     "source": [
      "Kernel function and feature space"
     ]
    },
    {
     "cell_type": "markdown",
     "metadata": {},
     "source": [
      "Let $X$ be a set and $\\phi:X\\longrightarrow Y$ a projection function, where $Y$ is a Hilbert space called the _feature space_.\n",
      "We define $k:X\\times X\\longrightarrow \\mathbb{R}$, called the _kernel function_ as $k(x,y)=\\langle\\phi(x),\\phi(y)\\rangle$ where $\\langle\\cdot,\\cdot\\rangle$ is the dot product in $Y$."
     ]
    },
    {
     "cell_type": "heading",
     "level": 2,
     "metadata": {},
     "source": [
      "Projection in the _feature space_"
     ]
    },
    {
     "cell_type": "markdown",
     "metadata": {},
     "source": [
      "Given points $x,w\\in X$, the projection of $\\phi(x)$ on $\\phi(w)$ is given by $$P_{\\phi(w)}\\left(\\phi(x)\\right)=\\frac{\\langle\\phi(x),\\phi(y)\\rangle}{\\Vert\\phi(w)\\Vert}$$\n",
      "\n",
      "Recalling the definition of $k$, and that the norm can be defined from the dot product as $\\Vert x\\Vert = \\langle x, x\\rangle^\\frac{1}{2}$, we obtain that\n",
      "$$P_{\\phi(w)}\\left(\\phi(x)\\right)=k(x,w) k(w,w)^{-\\frac{1}{2}}$$"
     ]
    },
    {
     "cell_type": "heading",
     "level": 2,
     "metadata": {},
     "source": [
      "Variance of the projection of a set of points along a vector in the _feature space_"
     ]
    },
    {
     "cell_type": "markdown",
     "metadata": {},
     "source": [
      "Given a set of points $x=\\left\\{x_1, x_2, \\ldots, x_n\\right\\}\\subset X$ and a point $w\\in X$, the variance of the projections of $\\phi(x_1), \\phi(x_2), \\ldots, \\phi(x_n)$ along the vector $\\phi(w)$ is given by\n",
      "\n",
      "$$\\mathrm{Var}_{\\phi(w)}(x) = \\frac{1}{n}\\sum_{x_i\\in x}\\left( P_{\\phi(w)}(\\phi(x_i))-\\mu \\right)^2$$\n",
      "\n",
      "where\n",
      "\n",
      "$$\\mu = \\frac{1}{n}\\sum_{x_i\\in x} P_{\\phi(w)}(\\phi(x_i))$$\n",
      "\n",
      "\n",
      "Using the results obtained in the previous section, and fully expanding the definitions we obtain\n",
      "\n",
      "$$\\mathrm{Var}_{\\phi(w)}(x) = \\frac{1}{n}\\sum_{x_i\\in x}\\left( k(x_i, w)k(w,w)^{-\\frac{1}{2}} - \\mu\\right)^2$$\n",
      "\n",
      "where\n",
      "\n",
      "$$\\mu = \\frac{k(w,w)^{-\\frac{1}{2}}}{n}\\sum_{x_i\\in x} k(x_i,w)$$"
     ]
    },
    {
     "cell_type": "heading",
     "level": 2,
     "metadata": {},
     "source": [
      "Python implementation"
     ]
    },
    {
     "cell_type": "code",
     "collapsed": false,
     "input": [
      "def project(x, w, k):\n",
      "    return k(x,w) * k(w,w)**-.5   \n",
      "\n",
      "def variance(xs, w, k):\n",
      "    n = len(xs)                                       # the number of points\n",
      "    ps = np.array([project(x, w, k)  for x in xs])    # the projection of the points \n",
      "    mean = np.mean(ps)                                # the mean\n",
      "    terms = ps - mean                                 # the terms of the sum\n",
      "    return np.dot(terms, terms) / n                   # the variance\n",
      "    \n",
      "def k1(x, w):\n",
      "    return np.dot(x, w)\n",
      "\n",
      "def k2(x, w):\n",
      "    return np.dot(x, w)**2\n",
      "\n",
      "def k3(x, w):\n",
      "    return (np.dot(x, w) + 1)**5\n",
      "\n",
      "def k4(x, w):\n",
      "    aux = x - w\n",
      "    return np.exp(-.5 * np.dot(aux, aux))  # since ||x - w||^2 = <x - w, x - w>  and  sigma = 1"
     ],
     "language": "python",
     "metadata": {},
     "outputs": [],
     "prompt_number": 138
    },
    {
     "cell_type": "code",
     "collapsed": false,
     "input": [
      "xs = np.array([[ 0,  1], \n",
      "               [-1,  3],\n",
      "               [ 2,  4],\n",
      "               [ 3, -1],\n",
      "               [-1, -2]])\n",
      "\n",
      "ws = np.array([[ 1, 1],\n",
      "               [-1, 1]])\n",
      "\n",
      "ks = [k1, k2, k3, k4]\n",
      "\n",
      "\n",
      "w_names = [\"(1, 1)\", \"(-1, 1)\"]\n",
      "\n",
      "k_names = [r\"k_1(x, y)=\\langle x, y \\rangle\",\n",
      "           r\"k_2(x, y)=\\langle x, y \\rangle^2\",\n",
      "           r\"k_3(x, y)=\\left(\\langle x, y \\rangle + 1\\right)^5\",\n",
      "           r\"k_4(x, y)=\\mathrm{exp}\\left(-\\frac{\\Vert x - y \\Vert^2}{2}\\right)=\\mathrm{Gaussian\\ kernel\\ with\\ \\sigma=1}\"]\n",
      "\n",
      "for i in range(4):\n",
      "    display(Math(r\"\\mathrm{Using\\ kernel}\\ \" + k_names[i]))\n",
      "    for j in range(2):\n",
      "        display(Math(r\"\\ \\ \\mathrm{The\\ variance\\ over}\\ \" + w_names[j] + \"\\ \\mathrm{equals}\\ \" + str(variance(xs, ws[j], ks[i]))))\n",
      "        "
     ],
     "language": "python",
     "metadata": {},
     "outputs": [
      {
       "latex": [
        "$$\\mathrm{Using\\ kernel}\\ k_1(x, y)=\\langle x, y \\rangle$$"
       ],
       "metadata": {},
       "output_type": "display_data",
       "text": [
        "<IPython.core.display.Math at 0x7f95dc02fb10>"
       ]
      },
      {
       "latex": [
        "$$\\ \\ \\mathrm{The\\ variance\\ over}\\ (1, 1)\\ \\mathrm{equals}\\ 4.12$$"
       ],
       "metadata": {},
       "output_type": "display_data",
       "text": [
        "<IPython.core.display.Math at 0x7f95c707fe10>"
       ]
      },
      {
       "latex": [
        "$$\\ \\ \\mathrm{The\\ variance\\ over}\\ (-1, 1)\\ \\mathrm{equals}\\ 3.72$$"
       ],
       "metadata": {},
       "output_type": "display_data",
       "text": [
        "<IPython.core.display.Math at 0x7f95c707fe10>"
       ]
      },
      {
       "latex": [
        "$$\\mathrm{Using\\ kernel}\\ k_2(x, y)=\\langle x, y \\rangle^2$$"
       ],
       "metadata": {},
       "output_type": "display_data",
       "text": [
        "<IPython.core.display.Math at 0x7f95dc02fb10>"
       ]
      },
      {
       "latex": [
        "$$\\ \\ \\mathrm{The\\ variance\\ over}\\ (1, 1)\\ \\mathrm{equals}\\ 41.34$$"
       ],
       "metadata": {},
       "output_type": "display_data",
       "text": [
        "<IPython.core.display.Math at 0x7f95c707fe10>"
       ]
      },
      {
       "latex": [
        "$$\\ \\ \\mathrm{The\\ variance\\ over}\\ (-1, 1)\\ \\mathrm{equals}\\ 12.06$$"
       ],
       "metadata": {},
       "output_type": "display_data",
       "text": [
        "<IPython.core.display.Math at 0x7f95c707fe10>"
       ]
      },
      {
       "latex": [
        "$$\\mathrm{Using\\ kernel}\\ k_3(x, y)=\\left(\\langle x, y \\rangle + 1\\right)^5$$"
       ],
       "metadata": {},
       "output_type": "display_data",
       "text": [
        "<IPython.core.display.Math at 0x7f95dc02fb10>"
       ]
      },
      {
       "latex": [
        "$$\\ \\ \\mathrm{The\\ variance\\ over}\\ (1, 1)\\ \\mathrm{equals}\\ 183362.819095$$"
       ],
       "metadata": {},
       "output_type": "display_data",
       "text": [
        "<IPython.core.display.Math at 0x7f95c707fe10>"
       ]
      },
      {
       "latex": [
        "$$\\ \\ \\mathrm{The\\ variance\\ over}\\ (-1, 1)\\ \\mathrm{equals}\\ 6494.99358025$$"
       ],
       "metadata": {},
       "output_type": "display_data",
       "text": [
        "<IPython.core.display.Math at 0x7f95c707fe10>"
       ]
      },
      {
       "latex": [
        "$$\\mathrm{Using\\ kernel}\\ k_4(x, y)=\\mathrm{exp}\\left(-\\frac{\\Vert x - y \\Vert^2}{2}\\right)=\\mathrm{Gaussian\\ kernel\\ with\\ \\sigma=1}$$"
       ],
       "metadata": {},
       "output_type": "display_data",
       "text": [
        "<IPython.core.display.Math at 0x7f95dc02fb10>"
       ]
      },
      {
       "latex": [
        "$$\\ \\ \\mathrm{The\\ variance\\ over}\\ (1, 1)\\ \\mathrm{equals}\\ 0.0567465537331$$"
       ],
       "metadata": {},
       "output_type": "display_data",
       "text": [
        "<IPython.core.display.Math at 0x7f95c707fe10>"
       ]
      },
      {
       "latex": [
        "$$\\ \\ \\mathrm{The\\ variance\\ over}\\ (-1, 1)\\ \\mathrm{equals}\\ 0.0545746811514$$"
       ],
       "metadata": {},
       "output_type": "display_data",
       "text": [
        "<IPython.core.display.Math at 0x7f95c707fe10>"
       ]
      }
     ],
     "prompt_number": 139
    },
    {
     "cell_type": "heading",
     "level": 1,
     "metadata": {},
     "source": [
      "Regression on Strings"
     ]
    },
    {
     "cell_type": "heading",
     "level": 2,
     "metadata": {},
     "source": [
      "Kernel Ridge Regression (KRR)"
     ]
    },
    {
     "cell_type": "markdown",
     "metadata": {},
     "source": [
      "Linear Regression allows us to model a linear function $f:\\mathbb{R}^d\\longrightarrow\\mathbb{R}$ from a set of samples $(x^t, y^t=f(x^t))$, by estimating a linear function $\\hat{f}(x)=w^T x + w_0$ with $w\\in\\mathbb{R}^d$ and $w_0\\in\\mathbb{R}$, such that the error $\\frac{1}{2}\\sum (y^t - \\hat{f}(x))^2$ is minimized.\n",
      "\n",
      "When the function is not linear, we can use a kernel function $k:X\\times X\\longrightarrow\\mathbb{R}$ to perform linear regression in the feature space, estimating a linear function $\\hat{f}(x)=k(w, k)$ for some $w\\in X$. However, due to the increased representation power, we're more prone to overfit the model to the train dataset, so we add a regularization term and the error becomes $\\frac{1}{2}\\sum (y^t - f(x^t))^2 + \\frac{\\lambda}{2}k(w, w)$.\n",
      "\n",
      "It can be show that the solution to this optimization problem is a linear combination of the input points, i.e. $\\hat{f}(x)=\\sum \\alpha_t k(x, x^t)$. For _KRR_ this vector $\\alpha$ is given by $(K - \\lambda I)^{-1} y$, where $K_{ij}=k(x_i,x_j)$ is called the Gram matrix.\n",
      "\n",
      "The Python implementation of the above discussion is given below."
     ]
    },
    {
     "cell_type": "code",
     "collapsed": false,
     "input": [
      "def train_krr(xs, ys, k, l):\n",
      "    K = np.array([[k(xi, xj)  for xi in xs]  for xj in xs])\n",
      "    I = np.identity(xs.shape[0])\n",
      "    a = np.dot(np.linalg.inv(K - l * I), ys)\n",
      "    \n",
      "    def f(x):\n",
      "        return np.dot(a, np.array([k(xi, x)  for xi in xs]))\n",
      "    \n",
      "    return f"
     ],
     "language": "python",
     "metadata": {},
     "outputs": [],
     "prompt_number": 140
    },
    {
     "cell_type": "heading",
     "level": 2,
     "metadata": {},
     "source": [
      "KRR on Strings"
     ]
    },
    {
     "cell_type": "markdown",
     "metadata": {},
     "source": [
      "We consider the space $\\Sigma^d$ of strings of fixed length $d$ over an alphabet $\\Sigma$. We define two kernel functions $\\mathtt{str\\_k1}:\\Sigma^d\\times\\Sigma^d\\longrightarrow\\mathbb{R}$ defined as the number of coincidences between two strings, and $\\mathtt{str\\_k2}:\\Sigma^d\\times\\Sigma^d\\longrightarrow\\mathbb{R}$ defined as $\\mathtt{str\\_k2}(u, w)=\\left(\\mathtt{str\\_k1}(u, w) + 1\\right)^2$.\n",
      "\n",
      "We also implement _Root-mean-square error_ to measure the training and test error of the model, as well as a function to read the data from the input files."
     ]
    },
    {
     "cell_type": "code",
     "collapsed": false,
     "input": [
      "def str_k1(s1, s2):\n",
      "    return np.count_nonzero(s1 == s2)\n",
      "\n",
      "def str_k2(s1, s2):\n",
      "    return (str_k1(s1, s2) + 1) ** 2\n",
      "\n",
      "def RMS_error(xs, ys):\n",
      "    return np.sqrt(np.dot(xs - ys, xs - ys) / xs.shape[0])\n",
      "\n",
      "def read_data(filename):\n",
      "    with open(filename) as f:\n",
      "        data = []\n",
      "        for line in f:\n",
      "            s, y = line.split()\n",
      "            data.append((float(y), np.array(list(s))))\n",
      "    ys, ss = zip(*sorted(data, reverse=True))\n",
      "    return np.array(ss), np.array(ys)            "
     ],
     "language": "python",
     "metadata": {},
     "outputs": [],
     "prompt_number": 141
    },
    {
     "cell_type": "code",
     "collapsed": false,
     "input": [
      "train_ss, train_ys = read_data(\"assign3-train.txt\")\n",
      "test_ss, test_ys = read_data(\"assign3-test.txt\")\n",
      "\n",
      "train_n = train_ss.shape[0]\n",
      "test_n = test_ss.shape[0]\n",
      "\n",
      "train_xs = np.arange(train_n)\n",
      "test_xs = np.arange(test_n)"
     ],
     "language": "python",
     "metadata": {},
     "outputs": [],
     "prompt_number": 142
    },
    {
     "cell_type": "markdown",
     "metadata": {},
     "source": [
      "We proceed to train and test the _KRR_ using the first kernel."
     ]
    },
    {
     "cell_type": "code",
     "collapsed": false,
     "input": [
      "krr1 = train_krr(train_ss, train_ys, str_k1, 0.1)\n",
      "test_results = np.array([krr1(s)  for s in test_ss])\n",
      "\n",
      "plt.plot(test_xs, test_ys, 'bo', test_xs, test_results, 'rx')\n",
      "plt.show()\n",
      "\n",
      "print \"RMS test error for the first kernel:\", RMS_error(test_ys, test_results)"
     ],
     "language": "python",
     "metadata": {},
     "outputs": [
      {
       "metadata": {},
       "output_type": "display_data",
       "png": "[encoded data removed]",
       "text": [
        "<matplotlib.figure.Figure at 0x7f95dc00c350>"
       ]
      },
      {
       "output_type": "stream",
       "stream": "stdout",
       "text": [
        "0.905886683209\n"
       ]
      }
     ],
     "prompt_number": 144
    },
    {
     "cell_type": "markdown",
     "metadata": {},
     "source": [
      "Now we train and test the _KRR_ using the second kernel, we see that the error is greater in this case and the predictions vary more."
     ]
    },
    {
     "cell_type": "code",
     "collapsed": false,
     "input": [
      "krr2 = train_krr(train_ss, train_ys, str_k2, 0.1)\n",
      "test_results2 = np.array([krr2(s)  for s in test_ss])\n",
      "\n",
      "plt.plot(test_xs, test_ys, 'bo', test_xs, test_results2, 'rx')\n",
      "plt.show()\n",
      "\n",
      "print \"RMS test error for the second kernel:\", RMS_error(test_ys, test_results2)"
     ],
     "language": "python",
     "metadata": {},
     "outputs": [
      {
       "metadata": {},
       "output_type": "display_data",
       "png": "[encoded data removed]",
       "text": [
        "<matplotlib.figure.Figure at 0x7f95c4148950>"
       ]
      },
      {
       "output_type": "stream",
       "stream": "stdout",
       "text": [
        "1.53883321486\n"
       ]
      }
     ],
     "prompt_number": 146
    },
    {
     "cell_type": "markdown",
     "metadata": {},
     "source": [
      "After plotting and calculating the error of the _KRR_ with both kernel functions, we see that the error in the train dataset is much lower for the second kernel, which may indicate overfitting to the train dataset and poor generalization."
     ]
    },
    {
     "cell_type": "code",
     "collapsed": false,
     "input": [
      "train_results = np.array([krr1(s)  for s in train_ss])\n",
      "\n",
      "print \"First kernel\"\n",
      "\n",
      "plt.plot(train_xs, train_ys, 'bo', train_xs, train_results, 'rx')\n",
      "plt.show()\n",
      "\n",
      "print \"RMS train error for the first kernel:\", RMS_error(train_ys, train_results)\n",
      "\n",
      "print \n",
      "\n",
      "print \"Second kernel\"\n",
      "\n",
      "train_results2 = np.array([krr2(s)  for s in train_ss])\n",
      "\n",
      "plt.plot(train_xs, train_ys, 'bo', train_xs, train_results2, 'rx')\n",
      "plt.show()\n",
      "\n",
      "print \"RMS train error for the second kernel:\", RMS_error(train_ys, train_results2)"
     ],
     "language": "python",
     "metadata": {},
     "outputs": [
      {
       "output_type": "stream",
       "stream": "stdout",
       "text": [
        "First kernel\n"
       ]
      },
      {
       "metadata": {},
       "output_type": "display_data",
       "png": "[encoded data removed]",
       "text": [
        "<matplotlib.figure.Figure at 0x7f95bec32090>"
       ]
      },
      {
       "output_type": "stream",
       "stream": "stdout",
       "text": [
        "RMS train error for the first kernel: 0.719765239028\n",
        "\n",
        "Second kernel\n"
       ]
      },
      {
       "metadata": {},
       "output_type": "display_data",
       "png": "[encoded data removed]",
       "text": [
        "<matplotlib.figure.Figure at 0x7f95beb718d0>"
       ]
      },
      {
       "output_type": "stream",
       "stream": "stdout",
       "text": [
        "RMS train error for the second kernel: 0.00401805498925\n"
       ]
      }
     ],
     "prompt_number": 151
    },
    {
     "cell_type": "markdown",
     "metadata": {},
     "source": [
      "Even after increasing the regularization parameter $\\lambda$ from $0.1$ to $0.9$ we see that the train error is still very low, and the test error is still higher than the simpler kernel function."
     ]
    },
    {
     "cell_type": "code",
     "collapsed": false,
     "input": [
      "krr2b = train_krr(train_ss, train_ys, str_k2, 0.9)\n",
      "test_results2b = np.array([krr2b(s)  for s in test_ss])\n",
      "train_results2b = np.array([krr2b(s)  for s in train_ss])\n",
      "\n",
      "print \"Second Kernel - Test\"\n",
      "\n",
      "plt.plot(test_xs, test_ys, 'bo', test_xs, test_results2b, 'rx')\n",
      "plt.show()\n",
      "\n",
      "print \"RMS test error for the second kernel with an increased lambda parameter:\", RMS_error(test_ys, test_results2b)\n",
      "\n",
      "print\n",
      "\n",
      "print \"Second Kernel - Train\"\n",
      "\n",
      "plt.plot(train_xs, train_ys, 'bo', train_xs, train_results2b, 'rx')\n",
      "plt.show()\n",
      "\n",
      "print \"RMS train error for the second kernel with an increased lambda parameter:\", RMS_error(train_ys, train_results2b)"
     ],
     "language": "python",
     "metadata": {},
     "outputs": [
      {
       "output_type": "stream",
       "stream": "stdout",
       "text": [
        "Second Kernel - Test\n"
       ]
      },
      {
       "metadata": {},
       "output_type": "display_data",
       "png": "[encoded data removed]",
       "text": [
        "<matplotlib.figure.Figure at 0x7f95bed0fcd0>"
       ]
      },
      {
       "output_type": "stream",
       "stream": "stdout",
       "text": [
        "RMS test error for the second kernel with an increased lambda parameter: 1.52493872947\n",
        "\n",
        "Second Kernel - Train\n"
       ]
      },
      {
       "metadata": {},
       "output_type": "display_data",
       "png": "[encoded data removed]",
       "text": [
        "<matplotlib.figure.Figure at 0x7f95beb7d450>"
       ]
      },
      {
       "output_type": "stream",
       "stream": "stdout",
       "text": [
        "RMS train error for the second kernel with an increased lambda parameter: 0.0368402339381\n"
       ]
      }
     ],
     "prompt_number": 152
    },
    {
     "cell_type": "code",
     "collapsed": false,
     "input": [],
     "language": "python",
     "metadata": {},
     "outputs": []
    }
   ],
   "metadata": {}
  }
 ]
}