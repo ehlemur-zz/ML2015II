{
 "metadata": {
  "name": ""
 },
 "nbformat": 3,
 "nbformat_minor": 0,
 "worksheets": [
  {
   "cells": [
    {
     "cell_type": "heading",
     "level": 1,
     "metadata": {},
     "source": [
      "Prelude"
     ]
    },
    {
     "cell_type": "markdown",
     "metadata": {},
     "source": [
      "We begin by importing the necessary libraries and defining useful functions"
     ]
    },
    {
     "cell_type": "code",
     "collapsed": false,
     "input": [
      "import matplotlib\n",
      "import numpy as np\n",
      "import scipy.optimize as opt\n",
      "import matplotlib.pyplot as plt\n",
      "from IPython.display import display, Math, Image\n",
      "\n",
      "%matplotlib inline\n",
      "np.set_printoptions(precision=3, suppress=True)\n",
      "\n",
      "\n",
      "def math(message):\n",
      "    scaped_chars = ' {}'\n",
      "    message = message.split('$')\n",
      "    for i in range(0, len(message), 2):\n",
      "        for c in scaped_chars:\n",
      "            message[i] = message[i].replace(c, '\\\\' + c)                                            \n",
      "        message[i] = '\\mathrm{' + message[i] + '}'\n",
      "    return Math(\"\".join(message))\n",
      "\n",
      "def relative_error(x, y):\n",
      "    if x == y == 0: return 0\n",
      "    return abs(x - y) / max(abs(x), abs(y))\n",
      "\n",
      "def squared_l2(x):\n",
      "    return np.sum(x**2)\n",
      "\n",
      "def compute_gradient(J, theta):\n",
      "    epsilon = 0.0001\n",
      "\n",
      "    gradient = np.zeros(theta.shape)\n",
      "    for i in range(theta.shape[0]):\n",
      "        theta_epsilon_plus = np.array(theta, dtype=np.float64)\n",
      "        theta_epsilon_plus[i] = theta[i] + epsilon\n",
      "        theta_epsilon_minus = np.array(theta, dtype=np.float64)\n",
      "        theta_epsilon_minus[i] = theta[i] - epsilon\n",
      "\n",
      "        gradient[i] = (J(theta_epsilon_plus)[0] - J(theta_epsilon_minus)[0]) / (2 * epsilon)\n",
      "\n",
      "    return gradient"
     ],
     "language": "python",
     "metadata": {},
     "outputs": [],
     "prompt_number": 143
    },
    {
     "cell_type": "code",
     "collapsed": false,
     "input": [
      "def load_MNIST_images(filename):\n",
      "    \"\"\"\n",
      "    returns a 28x28x[number of MNIST images] matrix containing\n",
      "    the raw MNIST images\n",
      "    :param filename: input data file\n",
      "    \"\"\"\n",
      "    with open(filename, \"r\") as f:\n",
      "        magic = np.fromfile(f, dtype=np.dtype('>i4'), count=1)\n",
      "\n",
      "        num_images = np.fromfile(f, dtype=np.dtype('>i4'), count=1)\n",
      "        num_rows = np.fromfile(f, dtype=np.dtype('>i4'), count=1)\n",
      "        num_cols = np.fromfile(f, dtype=np.dtype('>i4'), count=1)\n",
      "\n",
      "        images = np.fromfile(f, dtype=np.ubyte)\n",
      "        images = images.reshape((num_images, num_rows * num_cols)).transpose()\n",
      "        images = images.astype(np.float64) / 255\n",
      "\n",
      "        f.close()\n",
      "\n",
      "        return images\n",
      "\n",
      "def load_MNIST_labels(filename):\n",
      "    \"\"\"\n",
      "    returns a [number of MNIST images]x1 matrix containing\n",
      "    the labels for the MNIST images\n",
      "    :param filename: input file with labels\n",
      "    \"\"\"\n",
      "    with open(filename, 'r') as f:\n",
      "        magic = np.fromfile(f, dtype=np.dtype('>i4'), count=1)\n",
      "\n",
      "        num_labels = np.fromfile(f, dtype=np.dtype('>i4'), count=1)\n",
      "\n",
      "        labels = np.fromfile(f, dtype=np.ubyte)\n",
      "\n",
      "        f.close()\n",
      "\n",
      "        return labels\n",
      "    \n",
      "def display_network(A):\n",
      "    opt_normalize = True\n",
      "    opt_graycolor = True\n",
      "\n",
      "    # Rescale\n",
      "    A = A - np.average(A)\n",
      "\n",
      "    # Compute rows & cols\n",
      "    (row, col) = A.shape\n",
      "    sz = int(np.ceil(np.sqrt(row)))\n",
      "    buf = 1\n",
      "    n = np.ceil(np.sqrt(col))\n",
      "    m = np.ceil(col / n)\n",
      "\n",
      "    image = np.ones(shape=(buf + m * (sz + buf), buf + n * (sz + buf)))\n",
      "\n",
      "    if not opt_graycolor:\n",
      "        image *= 0.1\n",
      "\n",
      "    k = 0\n",
      "    for i in range(int(m)):\n",
      "        for j in range(int(n)):\n",
      "            if k >= col:\n",
      "                continue\n",
      "\n",
      "            clim = np.max(np.abs(A[:, k]))\n",
      "\n",
      "            if opt_normalize:\n",
      "                image[buf + i * (sz + buf):buf + i * (sz + buf) + sz, buf + j * (sz + buf):buf + j * (sz + buf) + sz] = \\\n",
      "                    A[:, k].reshape(sz, sz) / clim\n",
      "            else:\n",
      "                image[buf + i * (sz + buf):buf + i * (sz + buf) + sz, buf + j * (sz + buf):buf + j * (sz + buf) + sz] = \\\n",
      "                    A[:, k].reshape(sz, sz) / np.max(np.abs(A))\n",
      "            k += 1\n",
      "\n",
      "    plt.imshow(image, cmap=matplotlib.cm.gray)"
     ],
     "language": "python",
     "metadata": {},
     "outputs": [],
     "prompt_number": 144
    },
    {
     "cell_type": "heading",
     "level": 1,
     "metadata": {},
     "source": [
      "Sample Neural Network"
     ]
    },
    {
     "cell_type": "code",
     "collapsed": false,
     "input": [
      "display(Image(\"network.png\"))"
     ],
     "language": "python",
     "metadata": {},
     "outputs": [
      {
       "metadata": {},
       "output_type": "display_data",
       "png": "[encoded data removed]",
       "text": [
        "<IPython.core.display.Image at 0x7fc5f9959dd0>"
       ]
      }
     ],
     "prompt_number": 145
    },
    {
     "cell_type": "markdown",
     "metadata": {},
     "source": [
      "The following is based in the network above, where $a_i = \\sum_j w_j^i z_j$, $z_i=f_i(a_i)$ for $i=1,2,3,4$, $z_5=a_5$ is an input neuron and $f_2(x) = \\mathrm{ReLU}(x)$ and $f_1(x) = f_3(x) = f_4(x) = \\mathrm{sigmoid}(x) = \\sigma(x)$. The cost function will be given by $\\frac{1}{2}\\Vert x - y\\Vert_2^2$.\n",
      "\n",
      "These functions, as well as their derivatives are implemented below."
     ]
    },
    {
     "cell_type": "code",
     "collapsed": false,
     "input": [
      "def identity(x):\n",
      "    return x\n",
      "def didentity(x):\n",
      "    return 1\n",
      "\n",
      "\n",
      "def cost(y):\n",
      "    return (lambda x: .5 * (x - y) ** 2)\n",
      "\n",
      "def dcost(y):\n",
      "    return (lambda x: x - y)\n",
      "\n",
      "\n",
      "def relu(x):\n",
      "    return x * (x > 0)\n",
      "\n",
      "def drelu(x):\n",
      "    return 1. * (x > 0)\n",
      "\n",
      "\n",
      "def sigmoid(x):\n",
      "    return 1/(1 + np.exp(-x))\n",
      "\n",
      "def dsigmoid(x):\n",
      "    s = sigmoid(x)\n",
      "    return (1 - s) * s"
     ],
     "language": "python",
     "metadata": {},
     "outputs": [],
     "prompt_number": 138
    },
    {
     "cell_type": "markdown",
     "metadata": {},
     "source": [
      "And below is the implementation of the function that simulates the neuron described above"
     ]
    },
    {
     "cell_type": "code",
     "collapsed": false,
     "input": [
      "def evaluate_neural_network(W, x):\n",
      "    f = [sigmoid, relu, sigmoid, sigmoid, identity]\n",
      "    \n",
      "    a = np.array([0, 0, 0, 0, x])\n",
      "    z = np.array([0, 0, 0, 0, x])\n",
      "\n",
      "    n = len(W)\n",
      "    for i in range(n - 2, -1, -1):\n",
      "        a[i] = np.dot(W.T[i], z)\n",
      "        z[i] = f[i](a[i])\n",
      "        \n",
      "    return a, z"
     ],
     "language": "python",
     "metadata": {},
     "outputs": [],
     "prompt_number": 139
    },
    {
     "cell_type": "markdown",
     "metadata": {},
     "source": [
      "The cost function is $C(y, z_1) = \\frac{1}{2}\\Vert z_1 - y\\Vert^2$. Note that $\\frac{\\partial C}{\\partial z_1} = z_1 - y$.\n",
      "Define the error value per neuron as $\\delta_i = \\frac{\\partial C}{\\partial a_i}$.\n",
      "\n",
      "Since $z_1=\\sigma(a_1)$, we obtain that: \n",
      "$$\\delta_1 = \\frac{\\partial C}{\\partial z_1}\\frac{d z_1}{d a_1} = (a_1 - y)\\sigma'(a_1)$$\n",
      "\n",
      "Note that, due to the chain rule, we obtain that for $k>1$:\n",
      "$$\n",
      "\\delta_k = \\frac{\\partial C}{\\partial a_k} \n",
      "         = \\sum_i \\frac{\\partial C}{\\partial a_i} \\frac{\\partial a_i}{\\partial a_k} \n",
      "         = \\frac{d z_k}{d a_k} \\sum_i \\delta_i \\frac{partial a_i}{\\partial z_k} \n",
      "         = f_k'(a_k) \\sum_i w_k^i \\delta_i\n",
      "$$ \n",
      "\n",
      "And so we have that:\n",
      "$$\n",
      "\\delta_1 = (a_1 - y)\\ \\sigma'(a_1) \\\\\n",
      "\\delta_2 = \\text{ReLU}'(a_2)\\ w_2^1 \\delta_1 \\\\\n",
      "\\delta_3 = \\sigma'(a_3)\\ \\left(\\delta_2 w_3^2 + \\delta_1 w_3^1\\right) \\\\\n",
      "\\delta_4 = \\sigma'(a_4)\\ \\left(\\delta_2 w_4^2 + \\delta_1 w_4^1\\right) \\\\\n",
      "\\delta_5 = \\delta_2 w_5^4 + \\delta_1 w_5^3\n",
      "$$\n",
      "\n",
      "Below is the function that computes $\\delta_i$ for $i=1,\\ldots,5$."
     ]
    },
    {
     "cell_type": "code",
     "collapsed": false,
     "input": [
      "def calculate_error_values(W, x, y):\n",
      "    a, z = evaluate_neural_network(W, x)\n",
      "        \n",
      "    df = [dsigmoid, drelu, dsigmoid, dsigmoid, didentity]\n",
      "    da = np.array([dcost(y)(z[0]) * df[0](a[0]), 0, 0, 0, 0])\n",
      "    \n",
      "    n = len(W)\n",
      "    for i in range(1, n):\n",
      "        da[i] = np.dot(W[i], da) * df[i](a[i])\n",
      "        \n",
      "    return da\n",
      "\n",
      "\n",
      "def calculate_error_values_test(W, x, y):\n",
      "    f = [sigmoid, relu, sigmoid, sigmoid, identity]\n",
      "    \n",
      "    delta = .00001\n",
      "    d = calculate_error_values(W, x, y)\n",
      "    a, z = evaluate_neural_network(W, x)\n",
      "    \n",
      "    for i in range(5):        \n",
      "        neuron_input = a[i]\n",
      "        new_neuron_input = neuron_input + delta\n",
      "        \n",
      "        z_copy = np.copy(z)\n",
      "        z_copy[i] = f[i](new_neuron_input)\n",
      "                \n",
      "        for j in range(i - 1, -1, -1):\n",
      "            z_copy[j] = f[j](np.dot(W.T[j], z_copy))\n",
      "            \n",
      "        delta_cost = cost(y)(z_copy[0]) - cost(y)(z[0])\n",
      "        assert(relative_error(delta_cost, delta * d[i]) < 1e-4)\n",
      "        \n",
      "calculate_error_values_test(W, 0., .5)\n",
      "calculate_error_values_test(W, 1., .1)"
     ],
     "language": "python",
     "metadata": {},
     "outputs": [],
     "prompt_number": 140
    },
    {
     "cell_type": "code",
     "collapsed": false,
     "input": [
      "W = np.array([[ 0.,   0.,   0.,   0.,   0.],\n",
      "              [ 3.,   0.,   0.,   0.,   0.],\n",
      "              [-4.,   1.,   0.,   0.,   0.],\n",
      "              [-1.,  -3.,   0.,   0.,   0.],\n",
      "              [ 0.,   0.,   2., -10.,   0.]])\n",
      "\n",
      "display(math('For the weight matrix given by'))\n",
      "print W\n",
      "\n",
      "print\n",
      "\n",
      "display(math('The output $z_i$ for each neuron when $x=0$ is:'))\n",
      "print '\\t', evaluate_neural_network(W, 0.)[1]\n",
      "display(math('And the error $\\delta_i$ when $x=0$ and $y=0.5$ is:'))\n",
      "print '\\t', calculate_error_values(W, 0., .5)\n",
      "\n",
      "print\n",
      "\n",
      "display(math('The output $z_i$ for each neuron when $x=1$ is:'))\n",
      "print '\\t', evaluate_neural_network(W, 1.)[1]\n",
      "display(math('And the error $\\delta_i$ when $x=1$ and $y=0.1$ is:'))\n",
      "print '\\t', calculate_error_values(W, 1., .1)\n"
     ],
     "language": "python",
     "metadata": {},
     "outputs": [
      {
       "latex": [
        "$$\\mathrm{For\\ the\\ weight\\ matrix\\ given\\ by}$$"
       ],
       "metadata": {},
       "output_type": "display_data",
       "text": [
        "<IPython.core.display.Math at 0x7fc5fb1fdb90>"
       ]
      },
      {
       "output_type": "stream",
       "stream": "stdout",
       "text": [
        "[[  0.   0.   0.   0.   0.]\n",
        " [  3.   0.   0.   0.   0.]\n",
        " [ -4.   1.   0.   0.   0.]\n",
        " [ -1.  -3.   0.   0.   0.]\n",
        " [  0.   0.   2. -10.   0.]]\n",
        "\n"
       ]
      },
      {
       "latex": [
        "$$\\mathrm{The\\ output\\ }z_i\\mathrm{\\ for\\ each\\ neuron\\ when\\ }x=0\\mathrm{\\ is:}$$"
       ],
       "metadata": {},
       "output_type": "display_data",
       "text": [
        "<IPython.core.display.Math at 0x7fc5fb35d390>"
       ]
      },
      {
       "output_type": "stream",
       "stream": "stdout",
       "text": [
        "\t[ 0.076 -0.     0.5    0.5    0.   ]\n"
       ]
      },
      {
       "latex": [
        "$$\\mathrm{And\\ the\\ error\\ }\\delta_i\\mathrm{\\ when\\ }x=0\\mathrm{\\ and\\ }y=0.5\\mathrm{\\ is:}$$"
       ],
       "metadata": {},
       "output_type": "display_data",
       "text": [
        "<IPython.core.display.Math at 0x7fc5fb35d390>"
       ]
      },
      {
       "output_type": "stream",
       "stream": "stdout",
       "text": [
        "\t[-0.03  -0.     0.03   0.007 -0.015]\n",
        "\n"
       ]
      },
      {
       "latex": [
        "$$\\mathrm{The\\ output\\ }z_i\\mathrm{\\ for\\ each\\ neuron\\ when\\ }x=1\\mathrm{\\ is:}$$"
       ],
       "metadata": {},
       "output_type": "display_data",
       "text": [
        "<IPython.core.display.Math at 0x7fc5fb1fd510>"
       ]
      },
      {
       "output_type": "stream",
       "stream": "stdout",
       "text": [
        "\t[ 0.293  0.881  0.881  0.     1.   ]\n"
       ]
      },
      {
       "latex": [
        "$$\\mathrm{And\\ the\\ error\\ }\\delta_i\\mathrm{\\ when\\ }x=1\\mathrm{\\ and\\ }y=0.1\\mathrm{\\ is:}$$"
       ],
       "metadata": {},
       "output_type": "display_data",
       "text": [
        "<IPython.core.display.Math at 0x7fc5fb1fd8d0>"
       ]
      },
      {
       "output_type": "stream",
       "stream": "stdout",
       "text": [
        "\t[ 0.04   0.12  -0.004 -0.    -0.008]\n"
       ]
      }
     ],
     "prompt_number": 146
    },
    {
     "cell_type": "markdown",
     "metadata": {},
     "source": [
      "We now define a function to train the neural network using Stochastic Gradient Descent. \n",
      "The method was modified to make the step size vary according to the norm of the gradient and the number of iterations that have been made to improve it's convergence."
     ]
    },
    {
     "cell_type": "code",
     "collapsed": false,
     "input": [
      "def train_neural_network(W_mask, W, xs, ys, max_iterations=200):\n",
      "    n_samples = len(xs)\n",
      "    iteration_count = 1\n",
      "    \n",
      "    errors = []\n",
      "    \n",
      "    while True:\n",
      "        zs = np.array([evaluate_neural_network(W, x)[1]  for x in xs])\n",
      "        \n",
      "        error = 0\n",
      "        for i in range(n_samples):\n",
      "            error += cost(ys[i])(zs[i][0])\n",
      "        \n",
      "        errors.append(error)\n",
      "        if iteration_count > max_iterations:\n",
      "            break\n",
      "        \n",
      "        ds = np.array([calculate_error_values(W, xs[i], ys[i])  for i in range(n_samples)])\n",
      "        \n",
      "        zs = zs.reshape(n_samples, -1, 1)\n",
      "        ds = ds.reshape(n_samples, 1, -1)\n",
      "        \n",
      "        # W_mask is used so that we select only the entries that are allowed by the network\n",
      "        # i.e. we don't create new connections\n",
      "        dW = W_mask * np.sum(np.array([np.dot(zs[i], ds[i])  for i in range(n_samples)]), axis=0)\n",
      "        \n",
      "        norm = .5 * squared_l2(dW)**.5        \n",
      "        step_size = .1 / (norm * iteration_count**.3)\n",
      "        # if iteration_count % 100 == 0:\n",
      "        #     print \"norm =\", norm\n",
      "        #     print \"error =\", error\n",
      "        \n",
      "        W += step_size * -dW\n",
      "        iteration_count += 1\n",
      "            \n",
      "    return W, np.array(errors)"
     ],
     "language": "python",
     "metadata": {},
     "outputs": [],
     "prompt_number": 7
    },
    {
     "cell_type": "markdown",
     "metadata": {},
     "source": [
      "The network is trained for 5000 iterations using a sample seen on the given values. The evolution of the error as well as the final function is shown below."
     ]
    },
    {
     "cell_type": "code",
     "collapsed": false,
     "input": [
      "W_mask = 1. * (W != 0)\n",
      "\n",
      "xs = np.array([   -3,    -2,  -1.5,    -1,   -.5,     0,    .5,      1,  1.5,     2,     3])\n",
      "ys = np.array([.7312, .7339, .7438, .7832, .8903, .9820, .8114, .5937, .5219, .5049, .5002])\n",
      "\n",
      "W0 = (20 * np.random.uniform(size=W_mask.shape) - 10) * W_mask\n",
      "W_trained, errors = train_neural_network(W_mask, W0, xs, ys, 5000)\n",
      "predicted_ys = np.array([evaluate_neural_network(W_trained, x)[1][0]  for x in xs])\n",
      "\n",
      "print W_trained\n",
      "print \"error: \", errors[-1]\n",
      "plt.plot(np.arange(len(errors)), errors)\n",
      "plt.show()\n",
      "plt.plot(xs, ys, 'g-', label='Expected')\n",
      "plt.plot(xs, predicted_ys, 'r-', label='Predicted')\n",
      "plt.legend()\n",
      "plt.show()"
     ],
     "language": "python",
     "metadata": {},
     "outputs": [
      {
       "output_type": "stream",
       "stream": "stdout",
       "text": [
        "[[  0.      0.      0.      0.      0.   ]\n",
        " [  7.536   0.      0.      0.      0.   ]\n",
        " [  1.773  -9.748   0.      0.      0.   ]\n",
        " [  0.22   -0.014   0.      0.      0.   ]\n",
        " [  0.      0.     -1.606  10.096   0.   ]]\n",
        "error:  0.0720078726217\n"
       ]
      },
      {
       "metadata": {},
       "output_type": "display_data",
       "png": "[encoded data removed]",
       "text": [
        "<matplotlib.figure.Figure at 0x7fc5f987cf10>"
       ]
      },
      {
       "metadata": {},
       "output_type": "display_data",
       "png": "[encoded data removed]",
       "text": [
        "<matplotlib.figure.Figure at 0x7fc5f98a3d90>"
       ]
      }
     ],
     "prompt_number": 150
    },
    {
     "cell_type": "markdown",
     "metadata": {},
     "source": [
      "We observed than on certain seeds, the method converges quickly, and that these seeds are common enough to look for them at random.\n",
      "The network is trained on the samples using only 200 iterations, and if the error is less than a threshold, it is trained for another 5000.\n",
      "\n",
      "One such seed is for example\n",
      "\n",
      "```\n",
      "W0 = np.array(\n",
      "[[ 0.   ,  0.   , -0.  ,  -0.  ,   0.   ],\n",
      " [-0.561,  0.   ,  0.  ,  -0.  ,  -0.   ],\n",
      " [ 4.466,  0.954, -0.  ,  -0.  ,  -0.   ],\n",
      " [ 4.452, -3.252, -0.  ,   0.  ,   0.   ],\n",
      " [ 0.   ,  0.   ,  8.55,  -5.52,   0.   ]])```"
     ]
    },
    {
     "cell_type": "code",
     "collapsed": false,
     "input": [
      "print \"Looking for a good seed\"\n",
      "while True:\n",
      "    W0 = (20 * np.random.uniform(size=W_mask.shape) - 10) * W_mask\n",
      "    W_trained, errors = train_neural_network(W_mask, W0, xs, ys) \n",
      "    \n",
      "    print \".\",\n",
      "    if errors[-1] < .05:\n",
      "        print\n",
      "        break\n",
      "    \n",
      "\n",
      "W_trained, errors = train_neural_network(W_mask, W_trained, xs, ys, 5000) \n",
      "predicted_ys = np.array([evaluate_neural_network(W_trained, x)[1][0]  for x in xs])\n",
      "\n",
      "print\n",
      "print \"The weight of the trained network is\"\n",
      "print W_trained\n",
      "print \"Error: \", errors[-1]\n",
      "plt.plot(np.arange(500), errors[:500])\n",
      "plt.show()\n",
      "plt.plot(np.arange(len(errors)), errors)\n",
      "plt.show()\n",
      "plt.plot(xs, ys, 'g-', label='Expected')\n",
      "plt.plot(xs, predicted_ys, 'r-', label='Predicted')\n",
      "plt.legend()\n",
      "plt.show()"
     ],
     "language": "python",
     "metadata": {},
     "outputs": [
      {
       "output_type": "stream",
       "stream": "stdout",
       "text": [
        "Looking for a good seed\n",
        "."
       ]
      },
      {
       "output_type": "stream",
       "stream": "stdout",
       "text": [
        " . "
       ]
      },
      {
       "output_type": "stream",
       "stream": "stdout",
       "text": [
        ". "
       ]
      },
      {
       "output_type": "stream",
       "stream": "stdout",
       "text": [
        ". "
       ]
      },
      {
       "output_type": "stream",
       "stream": "stdout",
       "text": [
        ". "
       ]
      },
      {
       "output_type": "stream",
       "stream": "stdout",
       "text": [
        ". "
       ]
      },
      {
       "output_type": "stream",
       "stream": "stdout",
       "text": [
        ". "
       ]
      },
      {
       "output_type": "stream",
       "stream": "stdout",
       "text": [
        ". "
       ]
      },
      {
       "output_type": "stream",
       "stream": "stdout",
       "text": [
        ". "
       ]
      },
      {
       "output_type": "stream",
       "stream": "stdout",
       "text": [
        ". "
       ]
      },
      {
       "output_type": "stream",
       "stream": "stdout",
       "text": [
        ". "
       ]
      },
      {
       "output_type": "stream",
       "stream": "stdout",
       "text": [
        ". "
       ]
      },
      {
       "output_type": "stream",
       "stream": "stdout",
       "text": [
        ". "
       ]
      },
      {
       "output_type": "stream",
       "stream": "stdout",
       "text": [
        ". "
       ]
      },
      {
       "output_type": "stream",
       "stream": "stdout",
       "text": [
        ". "
       ]
      },
      {
       "output_type": "stream",
       "stream": "stdout",
       "text": [
        ". "
       ]
      },
      {
       "output_type": "stream",
       "stream": "stdout",
       "text": [
        ". "
       ]
      },
      {
       "output_type": "stream",
       "stream": "stdout",
       "text": [
        ". "
       ]
      },
      {
       "output_type": "stream",
       "stream": "stdout",
       "text": [
        ". "
       ]
      },
      {
       "output_type": "stream",
       "stream": "stdout",
       "text": [
        ". "
       ]
      },
      {
       "output_type": "stream",
       "stream": "stdout",
       "text": [
        ". "
       ]
      },
      {
       "output_type": "stream",
       "stream": "stdout",
       "text": [
        ". "
       ]
      },
      {
       "output_type": "stream",
       "stream": "stdout",
       "text": [
        ". "
       ]
      },
      {
       "output_type": "stream",
       "stream": "stdout",
       "text": [
        ".\n",
        "\n"
       ]
      },
      {
       "output_type": "stream",
       "stream": "stdout",
       "text": [
        "The weight of the trained network is\n",
        "[[ 0.     0.     0.     0.     0.   ]\n",
        " [-4.187  0.     0.     0.     0.   ]\n",
        " [ 8.018  1.666  0.     0.     0.   ]\n",
        " [ 0.004 -5.768  0.     0.     0.   ]\n",
        " [ 0.     0.    -3.027  5.763  0.   ]]\n",
        "error:  0.000810031663435\n"
       ]
      },
      {
       "metadata": {},
       "output_type": "display_data",
       "png": "[encoded data removed]",
       "text": [
        "<matplotlib.figure.Figure at 0x7fc5f9932690>"
       ]
      },
      {
       "metadata": {},
       "output_type": "display_data",
       "png": "[encoded data removed]",
       "text": [
        "<matplotlib.figure.Figure at 0x7fc5f9919f10>"
       ]
      },
      {
       "metadata": {},
       "output_type": "display_data",
       "png": "[encoded data removed]",
       "text": [
        "<matplotlib.figure.Figure at 0x7fc5f98c48d0>"
       ]
      }
     ],
     "prompt_number": 157
    },
    {
     "cell_type": "heading",
     "level": 1,
     "metadata": {},
     "source": [
      "RICA Autoencoder"
     ]
    },
    {
     "cell_type": "markdown",
     "metadata": {},
     "source": [
      "The RICA is an unsupervised algorithm that aims to extract features from a set of data.\n",
      "\n",
      "The cost function is given by \n",
      "$$\\underset{W}{\\min} \\lambda\\Vert W x \\Vert_1 + \\frac{1}{2}\\Vert W^T W x - x\\Vert_2^2$$\n",
      "\n",
      "The code available in https://github.com/jatinshah/ufldl_tutorial/blob/master/train.py was run to look for 49 features over the first 10.000 images from the MNIST dataset, and the learned representation is shown below."
     ]
    },
    {
     "cell_type": "code",
     "collapsed": false,
     "input": [
      "display(Image('autoencoder.png'))"
     ],
     "language": "python",
     "metadata": {},
     "outputs": []
    },
    {
     "cell_type": "markdown",
     "metadata": {},
     "source": [
      "Below we implement the RICA cost function as well as it's gradient to perform gradient descent."
     ]
    },
    {
     "cell_type": "code",
     "collapsed": false,
     "input": [
      "def RICA_iteration(W, x, n, N, batch_size, lambda_param=1, epsilon=0.01):\n",
      "    # x is a batch of batch_size N-dimensional vectors (N x batch_size)\n",
      "    # W is a n x N matrix\n",
      "    \n",
      "    W = W.reshape(n, N)\n",
      "    x = x.reshape(N, batch_size)\n",
      "    \n",
      "    reconstruction = np.dot(np.dot(W.T, W), x) - x       \n",
      "    regularization = np.sqrt(np.dot(W, x)**2 + epsilon)\n",
      "    \n",
      "    # RICA cost\n",
      "    regularization_cost = lambda_param * np.sum(regularization) \n",
      "    reconstruction_cost = .5 * squared_l2(reconstruction)\n",
      "    RICA_cost = (regularization_cost + reconstruction_cost) / m\n",
      "\n",
      "    # RICA gradient\n",
      "    regularization_gradient = lambda_param * np.dot(np.dot(W, x) / regularization, x.T)\n",
      "    reconstruction_gradient_W = np.dot(np.dot(W, reconstruction), x.T)    # Gradient w.r.t. W\n",
      "    reconstruction_gradient_W_T = np.dot(np.dot(W, x), reconstruction.T)  # Gradient w.r.t. W.T\n",
      "    RICA_gradient = (regularization_gradient + reconstruction_gradient_W + reconstruction_gradient_W_T) / m\n",
      "    \n",
      "    return RICA_cost, RICA_gradient.flatten()\n",
      "\n",
      "def RICA_iteration_test():\n",
      "    n = 30\n",
      "    N = 100\n",
      "    batch_size = 15\n",
      "    \n",
      "    W0 = np.random.uniform(size = n * N)\n",
      "    x = np.random.uniform(size = (N, batch_size))\n",
      "    \n",
      "    _, dW0 = RICA_iteration(W0, x, n, N, batch_size)\n",
      "    \n",
      "    cost = lambda W: RICA_iteration(W, x, n, N, batch_size)\n",
      "    numerical_dW0 = compute_gradient(cost, W0)\n",
      "    \n",
      "    worst = 0\n",
      "    for i in range(n * N):\n",
      "        worst = max(worst, relative_error(dW0[i], numerical_dW0[i]))\n",
      "    assert worst < 1e-6\n",
      "\n",
      "RICA_iteration_test()"
     ],
     "language": "python",
     "metadata": {},
     "outputs": [],
     "prompt_number": 158
    },
    {
     "cell_type": "markdown",
     "metadata": {},
     "source": [
      "We read the images from MNIST and select 10.000 to train RICA on."
     ]
    },
    {
     "cell_type": "code",
     "collapsed": false,
     "input": [
      "n = 7 * 7\n",
      "N = 28 * 28\n",
      "batch_size = 10000\n",
      "\n",
      "images = load_MNIST_images('train-images-idx3-ubyte')\n",
      "patches = images[:, :batch_size]"
     ],
     "language": "python",
     "metadata": {},
     "outputs": [],
     "prompt_number": 160
    },
    {
     "cell_type": "markdown",
     "metadata": {},
     "source": [
      "And train the RICA model using a random seed."
     ]
    },
    {
     "cell_type": "code",
     "collapsed": false,
     "input": [
      "RICA = lambda W: RICA_iteration(W, patches, n, N, batch_size, lambda_param=3e-3)\n",
      "\n",
      "# Random seed on the [-r, r] interval\n",
      "# This was so in the autoencoder program, so is kept for better comparison\n",
      "r = np.sqrt(6) / np.sqrt(n + N + 1)\n",
      "W0 = 2*r * np.random.uniform(size = n * N) - r\n",
      "\n",
      "original_cost = RICA(W0)[0]\n",
      "\n",
      "result = opt.minimize(RICA, W0, jac=True, method='L-BFGS-B', options={'disp': True, 'maxiters': 400})\n",
      "W_sol = result.x.reshape(n, N)\n",
      "\n",
      "optimized_cost = RICA(W_sol)[0]\n",
      "\n",
      "print \"original cost:\", original_cost\n",
      "print \"cost after optimization:\", optimized_cost\n",
      "\n",
      "display_network(W_sol.T)"
     ],
     "language": "python",
     "metadata": {},
     "outputs": [],
     "prompt_number": "*"
    },
    {
     "cell_type": "code",
     "collapsed": false,
     "input": [],
     "language": "python",
     "metadata": {},
     "outputs": []
    }
   ],
   "metadata": {}
  }
 ]
}