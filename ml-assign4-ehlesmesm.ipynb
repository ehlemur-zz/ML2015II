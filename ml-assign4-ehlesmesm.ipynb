{
 "metadata": {
  "name": ""
 },
 "nbformat": 3,
 "nbformat_minor": 0,
 "worksheets": [
  {
   "cells": [
    {
     "cell_type": "code",
     "collapsed": false,
     "input": [
      "import matplotlib\n",
      "import numpy as np\n",
      "import scipy.optimize as opt\n",
      "import matplotlib.pyplot as plt\n",
      "\n",
      "%matplotlib inline\n",
      "np.set_printoptions(precision=3, suppress=True)\n",
      "\n",
      "\n",
      "def relative_error(x, y):\n",
      "    if x == y == 0: return 0\n",
      "    return abs(x - y) / max(abs(x), abs(y))\n",
      "\n",
      "def squared_l2(x):\n",
      "    return np.sum(x**2)"
     ],
     "language": "python",
     "metadata": {},
     "outputs": [],
     "prompt_number": 1
    },
    {
     "cell_type": "code",
     "collapsed": false,
     "input": [
      "def load_MNIST_images(filename):\n",
      "    \"\"\"\n",
      "    returns a 28x28x[number of MNIST images] matrix containing\n",
      "    the raw MNIST images\n",
      "    :param filename: input data file\n",
      "    \"\"\"\n",
      "    with open(filename, \"r\") as f:\n",
      "        magic = np.fromfile(f, dtype=np.dtype('>i4'), count=1)\n",
      "\n",
      "        num_images = np.fromfile(f, dtype=np.dtype('>i4'), count=1)\n",
      "        num_rows = np.fromfile(f, dtype=np.dtype('>i4'), count=1)\n",
      "        num_cols = np.fromfile(f, dtype=np.dtype('>i4'), count=1)\n",
      "\n",
      "        images = np.fromfile(f, dtype=np.ubyte)\n",
      "        images = images.reshape((num_images, num_rows * num_cols)).transpose()\n",
      "        images = images.astype(np.float64) / 255\n",
      "\n",
      "        f.close()\n",
      "\n",
      "        return images\n",
      "\n",
      "def load_MNIST_labels(filename):\n",
      "    \"\"\"\n",
      "    returns a [number of MNIST images]x1 matrix containing\n",
      "    the labels for the MNIST images\n",
      "    :param filename: input file with labels\n",
      "    \"\"\"\n",
      "    with open(filename, 'r') as f:\n",
      "        magic = np.fromfile(f, dtype=np.dtype('>i4'), count=1)\n",
      "\n",
      "        num_labels = np.fromfile(f, dtype=np.dtype('>i4'), count=1)\n",
      "\n",
      "        labels = np.fromfile(f, dtype=np.ubyte)\n",
      "\n",
      "        f.close()\n",
      "\n",
      "        return labels\n",
      "    \n",
      "def display_network(A, filename='weights.png'):\n",
      "    opt_normalize = True\n",
      "    opt_graycolor = True\n",
      "\n",
      "    # Rescale\n",
      "    A = A - np.average(A)\n",
      "\n",
      "    # Compute rows & cols\n",
      "    (row, col) = A.shape\n",
      "    sz = int(np.ceil(np.sqrt(row)))\n",
      "    buf = 1\n",
      "    n = np.ceil(np.sqrt(col))\n",
      "    m = np.ceil(col / n)\n",
      "\n",
      "    image = np.ones(shape=(buf + m * (sz + buf), buf + n * (sz + buf)))\n",
      "\n",
      "    if not opt_graycolor:\n",
      "        image *= 0.1\n",
      "\n",
      "    k = 0\n",
      "    for i in range(int(m)):\n",
      "        for j in range(int(n)):\n",
      "            if k >= col:\n",
      "                continue\n",
      "\n",
      "            clim = np.max(np.abs(A[:, k]))\n",
      "\n",
      "            if opt_normalize:\n",
      "                image[buf + i * (sz + buf):buf + i * (sz + buf) + sz, buf + j * (sz + buf):buf + j * (sz + buf) + sz] = \\\n",
      "                    A[:, k].reshape(sz, sz) / clim\n",
      "            else:\n",
      "                image[buf + i * (sz + buf):buf + i * (sz + buf) + sz, buf + j * (sz + buf):buf + j * (sz + buf) + sz] = \\\n",
      "                    A[:, k].reshape(sz, sz) / np.max(np.abs(A))\n",
      "            k += 1\n",
      "\n",
      "    plt.imshow(filename, image, cmap=matplotlib.cm.gray)"
     ],
     "language": "python",
     "metadata": {},
     "outputs": [],
     "prompt_number": 2
    },
    {
     "cell_type": "code",
     "collapsed": false,
     "input": [
      "def identity(x):\n",
      "    return x\n",
      "def didentity(x):\n",
      "    return 1\n",
      "\n",
      "\n",
      "def cost(y):\n",
      "    return (lambda x: .5 * (x - y) ** 2)\n",
      "\n",
      "def dcost(y):\n",
      "    return (lambda x: x - y)\n",
      "\n",
      "\n",
      "def relu(x):\n",
      "    return x * (x > 0)\n",
      "\n",
      "def drelu(x):\n",
      "    return 1. * (x > 0)\n",
      "\n",
      "\n",
      "def sigmoid(x):\n",
      "    return 1/(1 + np.exp(-x))\n",
      "\n",
      "def dsigmoid(x):\n",
      "    s = sigmoid(x)\n",
      "    return (1 - s) * s"
     ],
     "language": "python",
     "metadata": {},
     "outputs": [],
     "prompt_number": 3
    },
    {
     "cell_type": "code",
     "collapsed": false,
     "input": [
      "def evaluate_neural_network(W, x):\n",
      "    f = [sigmoid, relu, sigmoid, sigmoid, identity]\n",
      "    \n",
      "    a = np.array([0, 0, 0, 0, x])\n",
      "    z = np.array([0, 0, 0, 0, x])\n",
      "\n",
      "    n = len(W)\n",
      "    for i in range(n - 2, -1, -1):\n",
      "        a[i] = np.dot(W.T[i], z)\n",
      "        z[i] = f[i](a[i])\n",
      "        \n",
      "    return a, z"
     ],
     "language": "python",
     "metadata": {},
     "outputs": [],
     "prompt_number": 4
    },
    {
     "cell_type": "markdown",
     "metadata": {},
     "source": [
      "Let the cost function be given by $C(y, z_1) = \\frac{1}{2}\\Vert z_1 - y\\Vert^2$, and note that $\\frac{\\partial C}{\\partial z_1} = z_1 - y$.\n",
      "Define the error value per neuron as $\\delta_i = \\frac{\\partial C}{\\partial a_i}$.\n",
      "\n",
      "Since $z_1=\\sigma(a_1)$, we obtain that: \n",
      "$$\\delta_1 = \\frac{\\partial C}{\\partial z_1}\\frac{d z_1}{d a_1} = (a_1 - y)\\sigma'(a_1)$$\n",
      "\n",
      "Note that, due to the chain rule, we obtain that for $k>1$:\n",
      "$$\n",
      "\\delta_k = \\frac{\\partial C}{\\partial a_k} \n",
      "         = \\sum_i \\frac{\\partial C}{\\partial a_i} \\frac{\\partial a_i}{\\partial a_k} \n",
      "         = \\frac{d z_k}{d a_k} \\sum_i \\delta_i \\frac{partial a_i}{\\partial z_k} \n",
      "         = f_k'(a_k) \\sum_i w_k^i \\delta_i\n",
      "$$ \n",
      "\n",
      "And so we have that:\n",
      "$$\n",
      "\\delta_1 = (a_1 - y)\\ \\sigma'(a_1) \\\\\n",
      "\\delta_2 = \\text{ReLU}'(a_2)\\ w_2^1 \\delta_1 \\\\\n",
      "\\delta_3 = \\sigma'(a_3)\\ \\left(\\delta_2 w_3^2 + \\delta_1 w_3^1\\right) \\\\\n",
      "\\delta_4 = \\sigma'(a_4)\\ \\left(\\delta_2 w_4^2 + \\delta_1 w_4^1\\right) \\\\\n",
      "\\delta_5 = \\delta_2 w_5^4 + \\delta_1 w_5^3\n",
      "$$"
     ]
    },
    {
     "cell_type": "code",
     "collapsed": false,
     "input": [
      "def calculate_error_values(W, x, y):\n",
      "    a, z = evaluate_neural_network(W, x)\n",
      "        \n",
      "    df = [dsigmoid, drelu, dsigmoid, dsigmoid, didentity]\n",
      "    da = np.array([dcost(y)(z[0]) * df[0](a[0]), 0, 0, 0, 0])\n",
      "    \n",
      "    n = len(W)\n",
      "    for i in range(1, n):\n",
      "        da[i] = np.dot(W[i], da) * df[i](a[i])\n",
      "        \n",
      "    return da\n",
      "\n",
      "\n",
      "def calculate_error_values_test(W, x, y):\n",
      "    f = [sigmoid, relu, sigmoid, sigmoid, identity]\n",
      "    \n",
      "    delta = .00001\n",
      "    d = calculate_error_values(W, x, y)\n",
      "    a, z = evaluate_neural_network(W, x)\n",
      "    \n",
      "    for i in range(5):        \n",
      "        neuron_input = a[i]\n",
      "        new_neuron_input = neuron_input + delta\n",
      "        \n",
      "        z_copy = np.copy(z)\n",
      "        z_copy[i] = f[i](new_neuron_input)\n",
      "                \n",
      "        for j in range(i - 1, -1, -1):\n",
      "            z_copy[j] = f[j](np.dot(W.T[j], z_copy))\n",
      "            \n",
      "        delta_cost = cost(y)(z_copy[0]) - cost(y)(z[0])\n",
      "        assert(relative_error(delta_cost, delta * d[i]) < 1e-4)"
     ],
     "language": "python",
     "metadata": {},
     "outputs": [],
     "prompt_number": 5
    },
    {
     "cell_type": "code",
     "collapsed": false,
     "input": [
      "W = np.array([[ 0.,   0.,   0.,   0.,   0.],\n",
      "              [ 3.,   0.,   0.,   0.,   0.],\n",
      "              [-4.,   1.,   0.,   0.,   0.],\n",
      "              [-1.,  -3.,   0.,   0.,   0.],\n",
      "              [ 0.,   0.,   2., -10.,   0.]])\n",
      "\n",
      "\n",
      "print evaluate_neural_network(W, 0.)[1]\n",
      "print calculate_error_values(W, 0., .5)\n",
      "\n",
      "print\n",
      "\n",
      "print evaluate_neural_network(W, 1.)[1]\n",
      "print calculate_error_values(W, 1., .1)  \n",
      "\n",
      "calculate_error_values_test(W, 0., .5)\n",
      "calculate_error_values_test(W, 1., .1)"
     ],
     "language": "python",
     "metadata": {},
     "outputs": [
      {
       "output_type": "stream",
       "stream": "stdout",
       "text": [
        "[ 0.076 -0.     0.5    0.5    0.   ]\n",
        "[-0.03  -0.     0.03   0.007 -0.015]\n",
        "\n",
        "[ 0.293  0.881  0.881  0.     1.   ]\n",
        "[ 0.04   0.12  -0.004 -0.    -0.008]\n"
       ]
      }
     ],
     "prompt_number": 6
    },
    {
     "cell_type": "code",
     "collapsed": false,
     "input": [
      "def train_neural_network(W_mask, W, xs, ys, max_iterations=200):\n",
      "    n_samples = len(xs)\n",
      "    iteration_count = 1\n",
      "    \n",
      "    errors = []\n",
      "    \n",
      "    while True:\n",
      "        zs = np.array([evaluate_neural_network(W, x)[1]  for x in xs])\n",
      "        \n",
      "        error = 0\n",
      "        for i in range(n_samples):\n",
      "            error += cost(ys[i])(zs[i][0])\n",
      "        \n",
      "        errors.append(error)\n",
      "        if iteration_count > max_iterations:\n",
      "            break\n",
      "        \n",
      "        ds = np.array([calculate_error_values(W, xs[i], ys[i])  for i in range(n_samples)])\n",
      "        \n",
      "        zs = zs.reshape(n_samples, -1, 1)\n",
      "        ds = ds.reshape(n_samples, 1, -1)\n",
      "        \n",
      "        dW = W_mask * np.sum(np.array([np.dot(zs[i], ds[i])  for i in range(n_samples)]), axis=0)\n",
      "        \n",
      "        norm = .5 * np.sum(dW * dW)**.5        \n",
      "        step_size = .1 / (norm * iteration_count**.3)\n",
      "        # if iteration_count % 100 == 0:\n",
      "        #     print \"norm =\", norm\n",
      "        #     print \"error =\", error\n",
      "        \n",
      "        W += step_size * -dW\n",
      "        iteration_count += 1\n",
      "            \n",
      "    return W, np.array(errors)"
     ],
     "language": "python",
     "metadata": {},
     "outputs": [],
     "prompt_number": 7
    },
    {
     "cell_type": "code",
     "collapsed": false,
     "input": [
      "W_mask = 1. * (W != 0)\n",
      "\n",
      "xs = np.array([   -3,    -2,  -1.5,    -1,   -.5,     0,    .5,      1,  1.5,     2,     3])\n",
      "ys = np.array([.7312, .7339, .7438, .7832, .8903, .9820, .8114, .5937, .5219, .5049, .5002])"
     ],
     "language": "python",
     "metadata": {},
     "outputs": [],
     "prompt_number": 8
    },
    {
     "cell_type": "code",
     "collapsed": false,
     "input": [
      "print \"Looking for a good seed\"\n",
      "while True:\n",
      "    W0 = (20 * np.random.uniform(size=W_mask.shape) - 10) * W_mask\n",
      "    W_trained, errors = train_neural_network(W_mask, W0, xs, ys) \n",
      "    \n",
      "    print \".\",\n",
      "    if errors[-1] < .05:\n",
      "        print\n",
      "        break\n",
      "        \n",
      "W_trained, errors = train_neural_network(W_mask, W0, xs, ys, 5000) \n",
      "predicted_ys = np.array([evaluate_neural_network(W_trained, x)[1][0]  for x in xs])\n",
      "\n",
      "print\n",
      "print W_trained\n",
      "print \"error: \", errors[-1]\n",
      "plt.plot(np.arange(500), errors[:500])\n",
      "plt.show()\n",
      "plt.plot(np.arange(len(errors)), errors)\n",
      "plt.show()\n",
      "plt.plot(xs, ys, 'g-', label='Expected')\n",
      "plt.plot(xs, predicted_ys, 'r-', label='Predicted')\n",
      "plt.legend()\n",
      "plt.show()"
     ],
     "language": "python",
     "metadata": {},
     "outputs": [
      {
       "output_type": "stream",
       "stream": "stdout",
       "text": [
        "Looking for a good seed\n",
        "."
       ]
      },
      {
       "output_type": "stream",
       "stream": "stdout",
       "text": [
        " . "
       ]
      },
      {
       "output_type": "stream",
       "stream": "stdout",
       "text": [
        ".\n",
        "\n"
       ]
      },
      {
       "output_type": "stream",
       "stream": "stdout",
       "text": [
        "[[ 0.     0.     0.     0.    -0.   ]\n",
        " [-2.303  0.     0.     0.     0.   ]\n",
        " [-0.003 -8.446  0.     0.     0.   ]\n",
        " [ 7.557  2.803  0.     0.     0.   ]\n",
        " [ 0.     0.     5.25  -2.907  0.   ]]\n",
        "error:  0.000711251600419\n"
       ]
      },
      {
       "metadata": {},
       "output_type": "display_data",
       "png": "[encoded data removed]",
       "text": [
        "<matplotlib.figure.Figure at 0x7fc61ce525d0>"
       ]
      },
      {
       "metadata": {},
       "output_type": "display_data",
       "png": "[encoded data removed]",
       "text": [
        "<matplotlib.figure.Figure at 0x7fc5fb35d150>"
       ]
      },
      {
       "metadata": {},
       "output_type": "display_data",
       "png": "[encoded data removed]",
       "text": [
        "<matplotlib.figure.Figure at 0x7fc5fb261b50>"
       ]
      }
     ],
     "prompt_number": 9
    },
    {
     "cell_type": "code",
     "collapsed": false,
     "input": [
      "plt.plot(np.arange(500), errors[:500])\n",
      "plt.show()"
     ],
     "language": "python",
     "metadata": {},
     "outputs": [
      {
       "metadata": {},
       "output_type": "display_data",
       "png": "[encoded data removed]",
       "text": [
        "<matplotlib.figure.Figure at 0x7fc5fb4761d0>"
       ]
      }
     ],
     "prompt_number": 10
    },
    {
     "cell_type": "code",
     "collapsed": false,
     "input": [
      "def RICA_iteration(W, x, n, N, batch_size, lambda_param=1, epsilon=0.01):\n",
      "    # x is a batch of batch_size N-dimensional vectors (N x batch_size)\n",
      "    # W is a n x N matrix\n",
      "    \n",
      "    W = W.reshape(n, N)\n",
      "    x = x.reshape(N, batch_size)\n",
      "    \n",
      "    reconstruction = np.dot(np.dot(W.T, W), x) - x       \n",
      "    regularization = np.sqrt(np.dot(W, x)**2 + epsilon)\n",
      "    \n",
      "    # RICA cost\n",
      "    regularization_cost = lambda_param * np.sum(regularization) \n",
      "    reconstruction_cost = .5 * squared_l2(reconstruction)\n",
      "    RICA_cost = (regularization_cost + reconstruction_cost) / m\n",
      "\n",
      "    # RICA gradient\n",
      "    regularization_gradient = lambda_param * np.dot(np.dot(W, x) / regularization, x.T)\n",
      "    reconstruction_gradient_W = np.dot(np.dot(W, reconstruction), x.T)    # Gradient w.r.t. W\n",
      "    reconstruction_gradient_W_T = np.dot(np.dot(W, x), reconstruction.T)  # Gradient w.r.t. W.T\n",
      "    RICA_gradient = (regularization_gradient + reconstruction_gradient_W + reconstruction_gradient_W_T) / m\n",
      "    \n",
      "    return RICA_cost, RICA_gradient.flatten()"
     ],
     "language": "python",
     "metadata": {},
     "outputs": [],
     "prompt_number": 26
    },
    {
     "cell_type": "code",
     "collapsed": false,
     "input": [
      "images = load_MNIST_images('../ufldl_tutorial/data/mnist/train-images-idx3-ubyte')\n",
      "patches = images[:, :100]"
     ],
     "language": "python",
     "metadata": {},
     "outputs": [],
     "prompt_number": 41
    },
    {
     "cell_type": "code",
     "collapsed": false,
     "input": [
      "n = 196\n",
      "N = 28 * 28\n",
      "m = 100\n",
      "\n",
      "cost = lambda W: RICA_iteration(W, patches, n, N, m)\n",
      "\n",
      "r = np.sqrt(6) / np.sqrt(n + N + 1)\n",
      "W0 = np.random.uniform(size=n * N) * 2 * r - r\n",
      "\n",
      "print cost(W0)\n",
      "result = opt.minimize(cost, W0, jac=True, method='L-BFGS-B', options={'maxiter': 400})\n",
      "print result\n",
      "print cost(result.x)"
     ],
     "language": "python",
     "metadata": {},
     "outputs": [
      {
       "output_type": "stream",
       "stream": "stdout",
       "text": [
        "(107.63207942338322, array([-0.004, -0.02 , -0.003, ..., -0.051, -0.023, -0.09 ]))\n",
        "  status: 0\n",
        " success: True\n",
        "    nfev: 308\n",
        "     fun: 61.924654405094316\n",
        "       x: array([-0.022, -0.059,  0.032, ...,  0.006, -0.014, -0.056])\n",
        " message: 'CONVERGENCE: REL_REDUCTION_OF_F_<=_FACTR*EPSMCH'\n",
        "     jac: array([-0.,  0.,  0., ...,  0., -0.,  0.])\n",
        "     nit: 296"
       ]
      },
      {
       "output_type": "stream",
       "stream": "stdout",
       "text": [
        "\n",
        "(61.924654405094316, array([-0.,  0.,  0., ...,  0., -0.,  0.]))\n"
       ]
      }
     ],
     "prompt_number": 42
    },
    {
     "cell_type": "code",
     "collapsed": false,
     "input": [
      "print \"\"\"\n",
      "Good seeds:\n",
      "[[ 0.     0.     0.     0.     0.   ]\n",
      " [ 4.847  0.     0.     0.     0.   ]\n",
      " [ 2.62   0.119  0.     0.     0.   ]\n",
      " [ 8.245  2.08   0.     0.     0.   ]\n",
      " [ 0.     0.     0.339  8.678  0.   ]]\n",
      "[[ 0.     0.     0.     0.     0.   ]\n",
      " [-1.776  0.     0.     0.     0.   ]\n",
      " [ 0.333 -8.468  0.     0.     0.   ]\n",
      " [ 5.512  6.774  0.     0.     0.   ]\n",
      " [ 0.     0.     0.001 -3.629 -0.   ]]\n",
      "[[ 0.     0.     0.     0.     0.   ]\n",
      " [-3.569  0.     0.     0.     0.   ]\n",
      " [ 0.004 -3.433  0.     0.     0.   ]\n",
      " [ 8.185  2.009  0.     0.     0.   ]\n",
      " [ 0.     0.     4.223 -3.055  0.   ]]\n",
      "Best seed:\n",
      "[[ 0.     0.     0.     0.     0.   ]\n",
      " [-2.782  0.     0.     0.     0.   ]\n",
      " [ 7.486  2.321  0.     0.     0.   ]\n",
      " [-0.007 -2.534  0.     0.     0.   ]\n",
      " [ 0.     0.    -2.869  2.995  0.   ]]\n",
      "[[ 0.     0.     0.     0.     0.   ]\n",
      " [-1.08   0.     0.     0.     0.   ]\n",
      " [-0.011 -8.485  0.     0.     0.   ]\n",
      " [ 7.245  5.715  0.     0.     0.   ]\n",
      " [ 0.     0.     3.516 -2.808  0.   ]]\n",
      "[[ 0.     0.     0.     0.     0.   ]\n",
      " [-4.512  0.     0.     0.     0.   ]\n",
      " [-0.013 -1.451  0.     0.     0.   ]\n",
      " [ 7.14   1.371  0.     0.     0.   ]\n",
      " [ 0.     0.     2.823 -2.777  0.   ]]\n",
      " \n",
      "0.0003\n",
      "[[ 0.     0.     0.     0.     0.   ]\n",
      " [-5.152  0.     0.     0.     0.   ]\n",
      " [ 6.948  1.141  0.     0.     0.   ]\n",
      " [-0.015 -1.784  0.     0.     0.   ]\n",
      " [ 0.     0.    -2.729  3.541  0.   ]]\n",
      "\"\"\""
     ],
     "language": "python",
     "metadata": {},
     "outputs": [
      {
       "output_type": "stream",
       "stream": "stdout",
       "text": [
        "\n",
        "Good seeds:\n",
        "[[ 0.     0.     0.     0.     0.   ]\n",
        " [ 4.847  0.     0.     0.     0.   ]\n",
        " [ 2.62   0.119  0.     0.     0.   ]\n",
        " [ 8.245  2.08   0.     0.     0.   ]\n",
        " [ 0.     0.     0.339  8.678  0.   ]]\n",
        "[[ 0.     0.     0.     0.     0.   ]\n",
        " [-1.776  0.     0.     0.     0.   ]\n",
        " [ 0.333 -8.468  0.     0.     0.   ]\n",
        " [ 5.512  6.774  0.     0.     0.   ]\n",
        " [ 0.     0.     0.001 -3.629 -0.   ]]\n",
        "[[ 0.     0.     0.     0.     0.   ]\n",
        " [-3.569  0.     0.     0.     0.   ]\n",
        " [ 0.004 -3.433  0.     0.     0.   ]\n",
        " [ 8.185  2.009  0.     0.     0.   ]\n",
        " [ 0.     0.     4.223 -3.055  0.   ]]\n",
        "Best seed:\n",
        "[[ 0.     0.     0.     0.     0.   ]\n",
        " [-2.782  0.     0.     0.     0.   ]\n",
        " [ 7.486  2.321  0.     0.     0.   ]\n",
        " [-0.007 -2.534  0.     0.     0.   ]\n",
        " [ 0.     0.    -2.869  2.995  0.   ]]\n",
        "[[ 0.     0.     0.     0.     0.   ]\n",
        " [-1.08   0.     0.     0.     0.   ]\n",
        " [-0.011 -8.485  0.     0.     0.   ]\n",
        " [ 7.245  5.715  0.     0.     0.   ]\n",
        " [ 0.     0.     3.516 -2.808  0.   ]]\n",
        "[[ 0.     0.     0.     0.     0.   ]\n",
        " [-4.512  0.     0.     0.     0.   ]\n",
        " [-0.013 -1.451  0.     0.     0.   ]\n",
        " [ 7.14   1.371  0.     0.     0.   ]\n",
        " [ 0.     0.     2.823 -2.777  0.   ]]\n",
        " \n",
        "0.0003\n",
        "[[ 0.     0.     0.     0.     0.   ]\n",
        " [-5.152  0.     0.     0.     0.   ]\n",
        " [ 6.948  1.141  0.     0.     0.   ]\n",
        " [-0.015 -1.784  0.     0.     0.   ]\n",
        " [ 0.     0.    -2.729  3.541  0.   ]]\n",
        "\n"
       ]
      }
     ],
     "prompt_number": 43
    },
    {
     "cell_type": "code",
     "collapsed": false,
     "input": [
      "print result.x.reshape(n,N).T\n",
      "display_network(result.x.reshape(n,N).T)"
     ],
     "language": "python",
     "metadata": {},
     "outputs": [
      {
       "output_type": "stream",
       "stream": "stdout",
       "text": [
        "[[-0.022 -0.059  0.032 ...,  0.034  0.013 -0.035]\n",
        " [-0.061  0.047 -0.006 ..., -0.     0.036 -0.039]\n",
        " [-0.049  0.046  0.022 ..., -0.032  0.002 -0.001]\n",
        " ..., \n",
        " [-0.057 -0.035 -0.043 ..., -0.056  0.041  0.036]\n",
        " [-0.032 -0.01  -0.037 ...,  0.044 -0.062 -0.07 ]\n",
        " [-0.003 -0.022  0.006 ...,  0.006 -0.014 -0.056]]\n"
       ]
      }
     ],
     "prompt_number": 44
    },
    {
     "cell_type": "code",
     "collapsed": false,
     "input": [],
     "language": "python",
     "metadata": {},
     "outputs": []
    }
   ],
   "metadata": {}
  }
 ]
}